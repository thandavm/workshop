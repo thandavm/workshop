{
 "cells": [
  {
   "cell_type": "code",
   "execution_count": 11,
   "metadata": {},
   "outputs": [],
   "source": [
    "import boto3\n",
    "import json\n",
    "from botocore.client import Config\n",
    "from semantic_router import Route\n",
    "import os\n",
    "from semantic_router.encoders import CohereEncoder\n",
    "from semantic_router import RouteLayer\n"
   ]
  },
  {
   "cell_type": "code",
   "execution_count": 12,
   "metadata": {},
   "outputs": [],
   "source": [
    "knowledgeBaseId = '4V4UV8DXOX'\n",
    "model_id ='anthropic.claude-3-haiku-20240307-v1:0'\n",
    "os.environ[\"COHERE_API_KEY\"] = \"RdXsDWxhX7C8sk5gFkeNYvPbdEtZKIlD81C1NtKt\"\n",
    "\n",
    "bedrock_config = Config(connect_timeout=120, \n",
    "                        read_timeout=120, \n",
    "                        retries={'max_attempts': 0}\n",
    "                       )\n",
    "bedrock_client = boto3.client('bedrock-runtime')\n",
    "bedrock_agent_client = boto3.client(\"bedrock-agent-runtime\", config=bedrock_config)"
   ]
  },
  {
   "cell_type": "code",
   "execution_count": 13,
   "metadata": {},
   "outputs": [],
   "source": [
    "coding_assistant = Route(\n",
    "    name=\"coding_assistant\",\n",
    "    utterances=[\n",
    "        \"Write a python code for s3 bucket uploads\",\n",
    "        \"write python code\",\n",
    "        \"write code\",\n",
    "        \"javascript code\"\n",
    "    ],\n",
    ")\n",
    "software_architect = Route(\n",
    "    name=\"software_architect\",\n",
    "    utterances=[\n",
    "        \"What are the 5 pillars of well architected framework\",\n",
    "        \"what are the best practices\",\n",
    "        \"How to configure AWS service\",\n",
    "        \"Tell me about the security pillar\",\n",
    "    ],\n",
    ")\n",
    "routes = [software_architect, coding_assistant]\n"
   ]
  },
  {
   "cell_type": "code",
   "execution_count": 14,
   "metadata": {},
   "outputs": [
    {
     "name": "stderr",
     "output_type": "stream",
     "text": [
      "\u001b[32m2024-04-16 15:24:15 INFO semantic_router.utils.logger Initializing RouteLayer\u001b[0m\n"
     ]
    }
   ],
   "source": [
    "encoder = CohereEncoder()\n",
    "rl = RouteLayer(encoder=encoder, routes=routes)"
   ]
  },
  {
   "cell_type": "code",
   "execution_count": 15,
   "metadata": {},
   "outputs": [],
   "source": [
    "def software_architect(prompt):\n",
    "    relevant_documents = bedrock_agent_client.retrieve(\n",
    "    retrievalQuery= {\n",
    "        'text': prompt\n",
    "    },\n",
    "    knowledgeBaseId=knowledgeBaseId,\n",
    "    retrievalConfiguration= {\n",
    "        'vectorSearchConfiguration': {\n",
    "            'numberOfResults': 3 # will fetch top 3 documents which matches closely with the query.\n",
    "        }\n",
    "    }\n",
    "    )\n",
    "\n",
    "    context = ''\n",
    "    for doc in relevant_documents['retrievalResults']:\n",
    "        context += doc['content']['text']\n",
    "        \n",
    "    final_prompt = {\n",
    "        \"anthropic_version\": \"bedrock-2023-05-31\",\n",
    "        \"max_tokens\": 1000,\n",
    "        \"messages\": [\n",
    "            {\n",
    "                \"role\": \"user\",\n",
    "                \"content\": [\n",
    "                    {\n",
    "                        \"type\": \"text\",\n",
    "                        \"text\": f\"{prompt}: {context}\"\n",
    "                    }\n",
    "                ]\n",
    "            }\n",
    "        ]\n",
    "    }\n",
    "    final_prompt = json.dumps(final_prompt)\n",
    "    streaming_response = bedrock_client.invoke_model_with_response_stream(\n",
    "        modelId=model_id,\n",
    "        body=final_prompt,\n",
    "    )\n",
    "    stream = streaming_response.get('body')\n",
    "\n",
    "    # a little bit of magic to buffer some response chunks then print them\n",
    "    acc = 0\n",
    "    buff = ''\n",
    "    if stream:\n",
    "        for event in stream:\n",
    "            chunk = event.get('chunk')\n",
    "            if chunk:\n",
    "                blob = json.loads(chunk.get('bytes').decode())\n",
    "                if blob['type'] == 'content_block_delta':\n",
    "                    buff = buff + blob['delta']['text']\n",
    "                    if acc < 20:\n",
    "                        acc = acc +1\n",
    "                    else:\n",
    "                        print(buff)\n",
    "                        buff=''\n",
    "                        acc = 0"
   ]
  },
  {
   "cell_type": "code",
   "execution_count": 16,
   "metadata": {},
   "outputs": [],
   "source": [
    "def coding_assistant(prompt):\n",
    "    final_prompt = {\n",
    "        \"anthropic_version\": \"bedrock-2023-05-31\",\n",
    "        \"max_tokens\": 1000,\n",
    "        \"messages\": [\n",
    "            {\n",
    "                \"role\": \"user\",\n",
    "                \"content\": [\n",
    "                    {\n",
    "                        \"type\": \"text\",\n",
    "                        \"text\": f\"{prompt}\"\n",
    "                    }\n",
    "                ]\n",
    "            }\n",
    "        ]\n",
    "    }\n",
    "    final_prompt = json.dumps(final_prompt)\n",
    "    streaming_response = bedrock_client.invoke_model_with_response_stream(\n",
    "        modelId=model_id,\n",
    "        body=final_prompt,\n",
    "    )\n",
    "    \n",
    "    stream = streaming_response.get('body')\n",
    "\n",
    "    # a little bit of magic to buffer some response chunks then print them\n",
    "    acc = 0\n",
    "    buff = ''\n",
    "    if stream:\n",
    "        for event in stream:\n",
    "            chunk = event.get('chunk')\n",
    "            if chunk:\n",
    "                blob = json.loads(chunk.get('bytes').decode())\n",
    "                if blob['type'] == 'content_block_delta':\n",
    "                    buff = buff + blob['delta']['text']\n",
    "                    if acc < 20:\n",
    "                        acc = acc +1\n",
    "                    else:\n",
    "                        print(buff)\n",
    "                        buff=''\n",
    "                        acc = 0"
   ]
  },
  {
   "cell_type": "code",
   "execution_count": 18,
   "metadata": {},
   "outputs": [
    {
     "name": "stdout",
     "output_type": "stream",
     "text": [
      "The key points from the passage are:\n",
      "\n",
      "1. The AWS Well-Architected Framework is a set of\n",
      " best practices and guidelines developed by the AWS community of principal engineers to help customers build well-architected systems\n",
      " in the cloud.\n",
      "\n",
      "2. The framework identifies 5 pillars of a well-architected system\n",
      ": operational excellence, security, reliability, performance efficiency, and cost optimization.\n",
      "\n",
      "3. The framework provides general\n",
      " design principles such as \"stop guessing capacity needs\" to help guide good design in the cloud.\n",
      "\n",
      "4\n",
      ". The framework is implemented through a structured review process where teams can assess their architectures against the framework's\n",
      " guidelines.\n",
      "\n",
      "5. By carrying out multiple reviews across an organization, common thematic issues can be identified,\n",
      " which can then be addressed through mechanisms, training, or sharing of principal engineering knowledge.\n",
      "\n",
      "6. The goal\n",
      " is to help organizations build reliable, secure, efficient, and cost-effective systems in the cloud by lever\n",
      "aging the collective knowledge and experience of the AWS engineering community.\n",
      "\n",
      "7. The document also introduces an industry-\n"
     ]
    }
   ],
   "source": [
    "prompt = 'pillars of well architected framework'\n",
    "router = rl(prompt).name\n",
    "\n",
    "if router == \"software_architect\":\n",
    "    software_architect(prompt)\n",
    "elif router == \"coding_assistant\":\n",
    "    coding_assistant(prompt)"
   ]
  }
 ],
 "metadata": {
  "kernelspec": {
   "display_name": "base",
   "language": "python",
   "name": "python3"
  },
  "language_info": {
   "codemirror_mode": {
    "name": "ipython",
    "version": 3
   },
   "file_extension": ".py",
   "mimetype": "text/x-python",
   "name": "python",
   "nbconvert_exporter": "python",
   "pygments_lexer": "ipython3",
   "version": "3.11.5"
  }
 },
 "nbformat": 4,
 "nbformat_minor": 2
}
