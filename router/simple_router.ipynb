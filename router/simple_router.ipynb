{
 "cells": [
  {
   "cell_type": "code",
   "execution_count": 1,
   "metadata": {},
   "outputs": [],
   "source": [
    "import boto3\n",
    "import json\n",
    "from botocore.client import Config\n"
   ]
  },
  {
   "cell_type": "code",
   "execution_count": 2,
   "metadata": {},
   "outputs": [],
   "source": [
    "knowledgeBaseId = '4V4UV8DXOX'\n",
    "model_id ='anthropic.claude-3-haiku-20240307-v1:0'\n",
    "\n",
    "bedrock_config = Config(connect_timeout=120, \n",
    "                        read_timeout=120, \n",
    "                        retries={'max_attempts': 0}\n",
    "                       )\n",
    "bedrock_client = boto3.client('bedrock-runtime')\n",
    "bedrock_agent_client = boto3.client(\"bedrock-agent-runtime\", config=bedrock_config)"
   ]
  },
  {
   "cell_type": "code",
   "execution_count": 17,
   "metadata": {},
   "outputs": [],
   "source": [
    "router_prompt = '''You are a expert in identifying intent from the user question.  \n",
    "You will read the text provided carefully and determine the intent of the user.  You will then classify the intent in to one of 2 categories - coding_assistant or  architecture_assistant.  \n",
    "If user request is for providing coding help then categorize it as coding_assistant.  If user request is for providing guidance, best practices, architecture questions calssify them  as architecture_assistant\n",
    "Respond with just the classification type.  Do NOT add any preamble.'''"
   ]
  },
  {
   "cell_type": "code",
   "execution_count": 18,
   "metadata": {},
   "outputs": [],
   "source": [
    "user_query = 'what are the 5 pillars of well architected framework'"
   ]
  },
  {
   "cell_type": "code",
   "execution_count": 19,
   "metadata": {},
   "outputs": [
    {
     "data": {
      "text/plain": [
       "'architecture_assistant'"
      ]
     },
     "execution_count": 19,
     "metadata": {},
     "output_type": "execute_result"
    }
   ],
   "source": [
    "final_prompt = {\n",
    "        \"anthropic_version\": \"bedrock-2023-05-31\",\n",
    "        \"max_tokens\": 1000,\n",
    "        \"messages\": [\n",
    "            {\n",
    "                \"role\": \"user\",\n",
    "                \"content\": [\n",
    "                    {\n",
    "                        \"type\": \"text\",\n",
    "                        \"text\": f\"{router_prompt}: {user_query}\"\n",
    "                    }\n",
    "                ]\n",
    "            }\n",
    "        ]\n",
    "    }\n",
    "\n",
    "final_prompt = json.dumps(final_prompt)\n",
    "response = bedrock_client.invoke_model(\n",
    "    modelId=model_id,\n",
    "    body=final_prompt,\n",
    ")\n",
    "response_body = json.loads(response.get('body').read())\n",
    "response_body['content'][0]['text']"
   ]
  },
  {
   "cell_type": "code",
   "execution_count": 11,
   "metadata": {},
   "outputs": [
    {
     "data": {
      "text/plain": [
       "'Coding Assistance'"
      ]
     },
     "execution_count": 11,
     "metadata": {},
     "output_type": "execute_result"
    }
   ],
   "source": [
    "response_body = json.loads(response.get('body').read())\n",
    "response_body['content'][0]['text']"
   ]
  },
  {
   "cell_type": "code",
   "execution_count": 14,
   "metadata": {},
   "outputs": [
    {
     "name": "stderr",
     "output_type": "stream",
     "text": [
      "\u001b[32m2024-04-16 15:24:15 INFO semantic_router.utils.logger Initializing RouteLayer\u001b[0m\n"
     ]
    }
   ],
   "source": [
    "encoder = CohereEncoder()\n",
    "rl = RouteLayer(encoder=encoder, routes=routes)"
   ]
  },
  {
   "cell_type": "code",
   "execution_count": 15,
   "metadata": {},
   "outputs": [],
   "source": [
    "def software_architect(prompt):\n",
    "    relevant_documents = bedrock_agent_client.retrieve(\n",
    "    retrievalQuery= {\n",
    "        'text': prompt\n",
    "    },\n",
    "    knowledgeBaseId=knowledgeBaseId,\n",
    "    retrievalConfiguration= {\n",
    "        'vectorSearchConfiguration': {\n",
    "            'numberOfResults': 3 # will fetch top 3 documents which matches closely with the query.\n",
    "        }\n",
    "    }\n",
    "    )\n",
    "\n",
    "    context = ''\n",
    "    for doc in relevant_documents['retrievalResults']:\n",
    "        context += doc['content']['text']\n",
    "        \n",
    "    final_prompt = {\n",
    "        \"anthropic_version\": \"bedrock-2023-05-31\",\n",
    "        \"max_tokens\": 1000,\n",
    "        \"messages\": [\n",
    "            {\n",
    "                \"role\": \"user\",\n",
    "                \"content\": [\n",
    "                    {\n",
    "                        \"type\": \"text\",\n",
    "                        \"text\": f\"{prompt}: {context}\"\n",
    "                    }\n",
    "                ]\n",
    "            }\n",
    "        ]\n",
    "    }\n",
    "    final_prompt = json.dumps(final_prompt)\n",
    "    streaming_response = bedrock_client.invoke_model_with_response_stream(\n",
    "        modelId=model_id,\n",
    "        body=final_prompt,\n",
    "    )\n",
    "    stream = streaming_response.get('body')\n",
    "\n",
    "    # a little bit of magic to buffer some response chunks then print them\n",
    "    acc = 0\n",
    "    buff = ''\n",
    "    if stream:\n",
    "        for event in stream:\n",
    "            chunk = event.get('chunk')\n",
    "            if chunk:\n",
    "                blob = json.loads(chunk.get('bytes').decode())\n",
    "                if blob['type'] == 'content_block_delta':\n",
    "                    buff = buff + blob['delta']['text']\n",
    "                    if acc < 20:\n",
    "                        acc = acc +1\n",
    "                    else:\n",
    "                        print(buff)\n",
    "                        buff=''\n",
    "                        acc = 0"
   ]
  },
  {
   "cell_type": "code",
   "execution_count": 16,
   "metadata": {},
   "outputs": [],
   "source": [
    "def coding_assistant(prompt):\n",
    "    final_prompt = {\n",
    "        \"anthropic_version\": \"bedrock-2023-05-31\",\n",
    "        \"max_tokens\": 1000,\n",
    "        \"messages\": [\n",
    "            {\n",
    "                \"role\": \"user\",\n",
    "                \"content\": [\n",
    "                    {\n",
    "                        \"type\": \"text\",\n",
    "                        \"text\": f\"{prompt}\"\n",
    "                    }\n",
    "                ]\n",
    "            }\n",
    "        ]\n",
    "    }\n",
    "    final_prompt = json.dumps(final_prompt)\n",
    "    streaming_response = bedrock_client.invoke_model_with_response_stream(\n",
    "        modelId=model_id,\n",
    "        body=final_prompt,\n",
    "    )\n",
    "    \n",
    "    stream = streaming_response.get('body')\n",
    "\n",
    "    # a little bit of magic to buffer some response chunks then print them\n",
    "    acc = 0\n",
    "    buff = ''\n",
    "    if stream:\n",
    "        for event in stream:\n",
    "            chunk = event.get('chunk')\n",
    "            if chunk:\n",
    "                blob = json.loads(chunk.get('bytes').decode())\n",
    "                if blob['type'] == 'content_block_delta':\n",
    "                    buff = buff + blob['delta']['text']\n",
    "                    if acc < 20:\n",
    "                        acc = acc +1\n",
    "                    else:\n",
    "                        print(buff)\n",
    "                        buff=''\n",
    "                        acc = 0"
   ]
  },
  {
   "cell_type": "code",
   "execution_count": 18,
   "metadata": {},
   "outputs": [
    {
     "name": "stdout",
     "output_type": "stream",
     "text": [
      "The key points from the passage are:\n",
      "\n",
      "1. The AWS Well-Architected Framework is a set of\n",
      " best practices and guidelines developed by the AWS community of principal engineers to help customers build well-architected systems\n",
      " in the cloud.\n",
      "\n",
      "2. The framework identifies 5 pillars of a well-architected system\n",
      ": operational excellence, security, reliability, performance efficiency, and cost optimization.\n",
      "\n",
      "3. The framework provides general\n",
      " design principles such as \"stop guessing capacity needs\" to help guide good design in the cloud.\n",
      "\n",
      "4\n",
      ". The framework is implemented through a structured review process where teams can assess their architectures against the framework's\n",
      " guidelines.\n",
      "\n",
      "5. By carrying out multiple reviews across an organization, common thematic issues can be identified,\n",
      " which can then be addressed through mechanisms, training, or sharing of principal engineering knowledge.\n",
      "\n",
      "6. The goal\n",
      " is to help organizations build reliable, secure, efficient, and cost-effective systems in the cloud by lever\n",
      "aging the collective knowledge and experience of the AWS engineering community.\n",
      "\n",
      "7. The document also introduces an industry-\n"
     ]
    }
   ],
   "source": [
    "prompt = 'pillars of well architected framework'\n",
    "router = rl(prompt).name\n",
    "\n",
    "if router == \"software_architect\":\n",
    "    software_architect(prompt)\n",
    "elif router == \"coding_assistant\":\n",
    "    coding_assistant(prompt)"
   ]
  },
  {
   "cell_type": "code",
   "execution_count": 29,
   "metadata": {},
   "outputs": [
    {
     "data": {
      "text/plain": [
       "'CREATE TABLE [Album]\\n(\\n    [AlbumId] INTEGER  NOT NULL,\\n    [Title] NVARCHAR(160)  NOT NULL,\\n    [ArtistId] INTEGER  NOT NULL,\\n    CONSTRAINT [PK_Album] PRIMARY KEY  ([AlbumId]),\\n    FOREIGN KEY ([ArtistId]) REFERENCES [Artist] ([ArtistId]) \\n\\t\\tON DELETE NO ACTION ON UPDATE NO ACTION\\n);\\n\\nCREATE TABLE [Artist]\\n(\\n    [ArtistId] INTEGER  NOT NULL,\\n    [Name] NVARCHAR(120),\\n    CONSTRAINT [PK_Artist] PRIMARY KEY  ([ArtistId])\\n);\\n\\nCREATE TABLE [Customer]\\n(\\n    [CustomerId] INTEGER  NOT NULL,\\n    [FirstName] NVARCHAR(40)  NOT NULL,\\n    [LastName] NVARCHAR(20)  NOT NULL,\\n    [Company] NVARCHAR(80),\\n    [Address] NVARCHAR(70),\\n    [City] NVARCHAR(40),\\n    [State] NVARCHAR(40),\\n    [Country] NVARCHAR(40),\\n    [PostalCode] NVARCHAR(10),\\n    [Phone] NVARCHAR(24),\\n    [Fax] NVARCHAR(24),\\n    [Email] NVARCHAR(60)  NOT NULL,\\n    [SupportRepId] INTEGER,\\n    CONSTRAINT [PK_Customer] PRIMARY KEY  ([CustomerId]),\\n    FOREIGN KEY ([SupportRepId]) REFERENCES [Employee] ([EmployeeId]) \\n\\t\\tON DELETE NO ACTION ON UPDATE NO ACTION\\n);\\n\\nCREATE TABLE [Employee]\\n(\\n    [EmployeeId] INTEGER  NOT NULL,\\n    [LastName] NVARCHAR(20)  NOT NULL,\\n    [FirstName] NVARCHAR(20)  NOT NULL,\\n    [Title] NVARCHAR(30),\\n    [ReportsTo] INTEGER,\\n    [BirthDate] DATETIME,\\n    [HireDate] DATETIME,\\n    [Address] NVARCHAR(70),\\n    [City] NVARCHAR(40),\\n    [State] NVARCHAR(40),\\n    [Country] NVARCHAR(40),\\n    [PostalCode] NVARCHAR(10),\\n    [Phone] NVARCHAR(24),\\n    [Fax] NVARCHAR(24),\\n    [Email] NVARCHAR(60),\\n    CONSTRAINT [PK_Employee] PRIMARY KEY  ([EmployeeId]),\\n    FOREIGN KEY ([ReportsTo]) REFERENCES [Employee] ([EmployeeId]) \\n\\t\\tON DELETE NO ACTION ON UPDATE NO ACTION\\n);\\n\\nCREATE TABLE [Genre]\\n(\\n    [GenreId] INTEGER  NOT NULL,\\n    [Name] NVARCHAR(120),\\n    CONSTRAINT [PK_Genre] PRIMARY KEY  ([GenreId])\\n);\\n\\nCREATE TABLE [Invoice]\\n(\\n    [InvoiceId] INTEGER  NOT NULL,\\n    [CustomerId] INTEGER  NOT NULL,\\n    [InvoiceDate] DATETIME  NOT NULL,\\n    [BillingAddress] NVARCHAR(70),\\n    [BillingCity] NVARCHAR(40),\\n    [BillingState] NVARCHAR(40),\\n    [BillingCountry] NVARCHAR(40),\\n    [BillingPostalCode] NVARCHAR(10),\\n    [Total] NUMERIC(10,2)  NOT NULL,\\n    CONSTRAINT [PK_Invoice] PRIMARY KEY  ([InvoiceId]),\\n    FOREIGN KEY ([CustomerId]) REFERENCES [Customer] ([CustomerId]) \\n\\t\\tON DELETE NO ACTION ON UPDATE NO ACTION\\n);\\n\\nCREATE TABLE [InvoiceLine]\\n(\\n    [InvoiceLineId] INTEGER  NOT NULL,\\n    [InvoiceId] INTEGER  NOT NULL,\\n    [TrackId] INTEGER  NOT NULL,\\n    [UnitPrice] NUMERIC(10,2)  NOT NULL,\\n    [Quantity] INTEGER  NOT NULL,\\n    CONSTRAINT [PK_InvoiceLine] PRIMARY KEY  ([InvoiceLineId]),\\n    FOREIGN KEY ([InvoiceId]) REFERENCES [Invoice] ([InvoiceId]) \\n\\t\\tON DELETE NO ACTION ON UPDATE NO ACTION,\\n    FOREIGN KEY ([TrackId]) REFERENCES [Track] ([TrackId]) \\n\\t\\tON DELETE NO ACTION ON UPDATE NO ACTION\\n);\\n\\nCREATE TABLE [MediaType]\\n(\\n    [MediaTypeId] INTEGER  NOT NULL,\\n    [Name] NVARCHAR(120),\\n    CONSTRAINT [PK_MediaType] PRIMARY KEY  ([MediaTypeId])\\n);\\n\\nCREATE TABLE [Playlist]\\n(\\n    [PlaylistId] INTEGER  NOT NULL,\\n    [Name] NVARCHAR(120),\\n    CONSTRAINT [PK_Playlist] PRIMARY KEY  ([PlaylistId])\\n);\\n\\nCREATE TABLE [PlaylistTrack]\\n(\\n    [PlaylistId] INTEGER  NOT NULL,\\n    [TrackId] INTEGER  NOT NULL,\\n    CONSTRAINT [PK_PlaylistTrack] PRIMARY KEY  ([PlaylistId], [TrackId]),\\n    FOREIGN KEY ([PlaylistId]) REFERENCES [Playlist] ([PlaylistId]) \\n\\t\\tON DELETE NO ACTION ON UPDATE NO ACTION,\\n    FOREIGN KEY ([TrackId]) REFERENCES [Track] ([TrackId]) \\n\\t\\tON DELETE NO ACTION ON UPDATE NO ACTION\\n);\\n\\nCREATE TABLE [Track]\\n(\\n    [TrackId] INTEGER  NOT NULL,\\n    [Name] NVARCHAR(200)  NOT NULL,\\n    [AlbumId] INTEGER,\\n    [MediaTypeId] INTEGER  NOT NULL,\\n    [GenreId] INTEGER,\\n    [Composer] NVARCHAR(220),\\n    [Milliseconds] INTEGER  NOT NULL,\\n    [Bytes] INTEGER,\\n    [UnitPrice] NUMERIC(10,2)  NOT NULL,\\n    CONSTRAINT [PK_Track] PRIMARY KEY  ([TrackId]),\\n    FOREIGN KEY ([AlbumId]) REFERENCES [Album] ([AlbumId]) \\n\\t\\tON DELETE NO ACTION ON UPDATE NO ACTION,\\n    FOREIGN KEY ([GenreId]) REFERENCES [Genre] ([GenreId]) \\n\\t\\tON DELETE NO ACTION ON UPDATE NO ACTION,\\n    FOREIGN KEY ([MediaTypeId]) REFERENCES [MediaType] ([MediaTypeId]) \\n\\t\\tON DELETE NO ACTION ON UPDATE NO ACTION\\n);\\n\\nCREATE INDEX [IFK_AlbumArtistId] ON [Album] ([ArtistId]);\\n\\nCREATE INDEX [IFK_CustomerSupportRepId] ON [Customer] ([SupportRepId]);\\n\\nCREATE INDEX [IFK_EmployeeReportsTo] ON [Employee] ([ReportsTo]);\\n\\nCREATE INDEX [IFK_InvoiceCustomerId] ON [Invoice] ([CustomerId]);\\n\\nCREATE INDEX [IFK_InvoiceLineInvoiceId] ON [InvoiceLine] ([InvoiceId]);\\n\\nCREATE INDEX [IFK_InvoiceLineTrackId] ON [InvoiceLine] ([TrackId]);\\n\\nCREATE INDEX [IFK_PlaylistTrackTrackId] ON [PlaylistTrack] ([TrackId]);\\n\\nCREATE INDEX [IFK_TrackAlbumId] ON [Track] ([AlbumId]);\\n\\nCREATE INDEX [IFK_TrackGenreId] ON [Track] ([GenreId]);\\n\\nCREATE INDEX [IFK_TrackMediaTypeId] ON [Track] ([MediaTypeId]);'"
      ]
     },
     "execution_count": 29,
     "metadata": {},
     "output_type": "execute_result"
    }
   ],
   "source": [
    "###open a file and read the contents in to a string\n",
    "def read_file(filename):\n",
    "    with open(filename, 'r') as f:\n",
    "        return f.read()\n",
    "    \n",
    "schema = read_file('chinook.sql')\n",
    "schema"
   ]
  },
  {
   "cell_type": "code",
   "execution_count": 33,
   "metadata": {},
   "outputs": [],
   "source": [
    "system_prompt =f'''Transform the following natural language requests into valid SQL queries. Do not add any preamble in your response.  \n",
    "Assume a database with the following tables and columns exists:\n",
    "{schema}\n",
    "'''"
   ]
  },
  {
   "cell_type": "code",
   "execution_count": 34,
   "metadata": {},
   "outputs": [],
   "source": [
    "sql_prompt = 'Get the list of customers'"
   ]
  },
  {
   "cell_type": "code",
   "execution_count": 35,
   "metadata": {},
   "outputs": [
    {
     "data": {
      "text/plain": [
       "'SELECT * FROM Customer;'"
      ]
     },
     "execution_count": 35,
     "metadata": {},
     "output_type": "execute_result"
    }
   ],
   "source": [
    "final_prompt = {\n",
    "        \"anthropic_version\": \"bedrock-2023-05-31\",\n",
    "        \"max_tokens\": 1000,\n",
    "        \"system\" : system_prompt,\n",
    "        \"messages\": [\n",
    "            {\n",
    "                \"role\": \"user\",\n",
    "                \"content\": [\n",
    "                    {\n",
    "                        \"type\": \"text\",\n",
    "                        \"text\": f\"{sql_prompt}\"\n",
    "                    }\n",
    "                ]\n",
    "            }\n",
    "        ]\n",
    "    }\n",
    "\n",
    "final_prompt = json.dumps(final_prompt)\n",
    "response = bedrock_client.invoke_model(\n",
    "    modelId=model_id,\n",
    "    body=final_prompt,\n",
    ")\n",
    "response_body = json.loads(response.get('body').read())\n",
    "response_body['content'][0]['text']"
   ]
  },
  {
   "cell_type": "code",
   "execution_count": null,
   "metadata": {},
   "outputs": [],
   "source": [
    "knowledgeBaseId = '4V4UV8DXOX'\n",
    "model_id ='anthropic.claude-3-haiku-20240307-v1:0'"
   ]
  },
  {
   "cell_type": "code",
   "execution_count": null,
   "metadata": {},
   "outputs": [],
   "source": [
    "{\n",
    "   \"input\": { \n",
    "      \"text\": \"What are the 5 pillars of well architected framework\"\n",
    "   },\n",
    "   \"retrieveAndGenerateConfiguration\": { \n",
    "      \"knowledgeBaseConfiguration\": { \n",
    "         \"knowledgeBaseId\": \"4V4UV8DXOX\",\n",
    "         \"modelArn\": \"arn:aws:bedrock:us-east-1::foundation-model/anthropic.claude-3-sonnet-20240229-v1:0\",\n",
    "         \"retrievalConfiguration\": { \n",
    "            \"vectorSearchConfiguration\": { \n",
    "               \"numberOfResults\": 3,\n",
    "            },\n",
    "         },\n",
    "      },\n",
    "   }\n",
    "}"
   ]
  },
  {
   "cell_type": "code",
   "execution_count": 9,
   "metadata": {},
   "outputs": [
    {
     "name": "stdout",
     "output_type": "stream",
     "text": [
      "{'type': 'text', 'text': 'coding_assistant'}\n",
      "coding_assistant\n"
     ]
    }
   ],
   "source": [
    "import boto3\n",
    "import json\n",
    "\n",
    "bedrock_runtime = boto3.client(\"bedrock-runtime\")\n",
    "model_Id = \"anthropic.claude-3-sonnet-20240229-v1:0\"\n",
    "prompt = \"Write code for prime number\"\n",
    "\n",
    "system_prompt = \"\"\"You are a expert in identifying intent from the user question.  \n",
    "                You will read the text provided carefully and determine the intent of the user.  You will then classify the intent in to one of 2 categories - coding_assistant or  architecture_assistant.  \n",
    "                If user request is for providing coding help then categorize it as coding_assistant.  If user request is for providing guidance, best practices, architecture questions calssify them  as architecture_assistant\n",
    "                Respond with just the classification type.  Do NOT add any preamble.\"\"\"\n",
    "\n",
    "payload = {\n",
    "\"modelId\": model_Id,\n",
    "\"contentType\": \"application/json\",\n",
    "\"accept\": \"application/json\",\n",
    "\"body\": {\n",
    "    \"anthropic_version\": \"bedrock-2023-05-31\",\n",
    "    \"system\": system_prompt,\n",
    "    \"max_tokens\": 1000,\n",
    "    \"messages\": [\n",
    "        {\n",
    "            \"role\": \"user\",\n",
    "            \"content\": [\n",
    "                {\n",
    "                    \"type\": \"text\",\n",
    "                    \"text\": prompt\n",
    "                }\n",
    "            ]\n",
    "        }\n",
    "    ]\n",
    "}\n",
    "}\n",
    "\n",
    "# Convert the payload to bytes\n",
    "body_bytes = json.dumps(payload['body']).encode('utf-8')\n",
    "\n",
    "# Invoke the model\n",
    "response = bedrock_runtime.invoke_model(\n",
    "    body=body_bytes,\n",
    "    contentType=payload['contentType'],\n",
    "    accept=payload['accept'],\n",
    "    modelId=payload['modelId']\n",
    ")\n",
    "\n",
    "# Process the response\n",
    "response_body = json.loads(response['body'].read())\n",
    "\n",
    "print(response_body['content'][0])\n",
    "print(response_body['content'][0]['text'])"
   ]
  },
  {
   "cell_type": "code",
   "execution_count": null,
   "metadata": {},
   "outputs": [],
   "source": [
    "{\n",
    "  \"prompt\": \"write python code for prime numbers\"\n",
    "}"
   ]
  }
 ],
 "metadata": {
  "kernelspec": {
   "display_name": "base",
   "language": "python",
   "name": "python3"
  },
  "language_info": {
   "codemirror_mode": {
    "name": "ipython",
    "version": 3
   },
   "file_extension": ".py",
   "mimetype": "text/x-python",
   "name": "python",
   "nbconvert_exporter": "python",
   "pygments_lexer": "ipython3",
   "version": "3.11.5"
  }
 },
 "nbformat": 4,
 "nbformat_minor": 2
}
